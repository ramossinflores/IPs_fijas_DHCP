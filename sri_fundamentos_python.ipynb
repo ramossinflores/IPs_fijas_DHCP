{
 "cells": [
  {
   "cell_type": "markdown",
   "metadata": {},
   "source": [
    "# Clases de Python Básico\n",
    "### Suma"
   ]
  },
  {
   "cell_type": "code",
   "execution_count": 1,
   "metadata": {},
   "outputs": [
    {
     "name": "stdout",
     "output_type": "stream",
     "text": [
      "5\n"
     ]
    }
   ],
   "source": [
    "suma = 2 +3\n",
    "print(suma)"
   ]
  },
  {
   "cell_type": "markdown",
   "metadata": {},
   "source": [
    "### Bucles\n",
    "Demostrar importancia de la indentación"
   ]
  },
  {
   "cell_type": "code",
   "execution_count": 4,
   "metadata": {},
   "outputs": [
    {
     "name": "stdout",
     "output_type": "stream",
     "text": [
      "Número 1\n",
      "Número 2\n",
      "Número 3\n",
      "Número 4\n",
      "Número 5\n"
     ]
    }
   ],
   "source": [
    "for i  in range(1,6):\n",
    "    print(f\"Número {i}\")"
   ]
  },
  {
   "cell_type": "markdown",
   "metadata": {},
   "source": [
    "### Casting"
   ]
  },
  {
   "cell_type": "code",
   "execution_count": 6,
   "metadata": {},
   "outputs": [
    {
     "name": "stdout",
     "output_type": "stream",
     "text": [
      "30\n"
     ]
    }
   ],
   "source": [
    "edad = \"20\"\n",
    "edad = int(edad) + 10\n",
    "print(edad)"
   ]
  },
  {
   "cell_type": "markdown",
   "metadata": {},
   "source": [
    "### Ejemplo ``if``"
   ]
  },
  {
   "cell_type": "code",
   "execution_count": 9,
   "metadata": {},
   "outputs": [
    {
     "name": "stdout",
     "output_type": "stream",
     "text": [
      "ERROR: Dirección IP no  válida\n"
     ]
    }
   ],
   "source": [
    "ips = [\"192.168.1.1\", \"192.168.1.2\", \"192.168.3.1\", \"192.168.1.11\"]\n",
    "ip_cliente = \"127.0.0.1\"\n",
    "if ip_cliente in ips:\n",
    "    print(\"La dirección IP se encuentra en la blacklist\")\n",
    "elif ip_cliente==\"127.0.0.1\":\n",
    "    print(\"ERROR: Dirección IP del cliente es  inválida\")\n",
    "else:\n",
    "    print(\"La dirección IP no se encuentra en la blacklist ni es loopback\")"
   ]
  },
  {
   "cell_type": "markdown",
   "metadata": {},
   "source": [
    "### Ejemplo ``if`` anidado"
   ]
  },
  {
   "cell_type": "code",
   "execution_count": 11,
   "metadata": {},
   "outputs": [
    {
     "name": "stdout",
     "output_type": "stream",
     "text": [
      "x es igual a 0\n"
     ]
    }
   ],
   "source": [
    "x = 0\n",
    "if x < 0:\n",
    "    print(\"x es menor que 0\")\n",
    "else:\n",
    "    if x > 0:\n",
    "        print(\"x es mayor que 0\")\n",
    "    else:\n",
    "        print(\"x es igual a 0\")"
   ]
  },
  {
   "cell_type": "markdown",
   "metadata": {},
   "source": [
    "### Ejercicios\n",
    "Se pide un programa que evalúe las notas de SRI, ASO y IAW, calcule la media y muestre un mensaje correspondiente al rango de nota en el cual se encuentra. Como **extra** se pide que se pueda introducir en caso NA y que esto equivalga a cero."
   ]
  },
  {
   "cell_type": "code",
   "execution_count": 14,
   "metadata": {},
   "outputs": [
    {
     "name": "stdout",
     "output_type": "stream",
     "text": [
      "Notable\n"
     ]
    }
   ],
   "source": [
    "import re\n",
    "\n",
    "def validar_nota(nota):\n",
    "    regex = r\"^(?:NA|\\d+(\\.\\d{1,2})?)$\"\n",
    "    match = re.search(regex, nota)\n",
    "    if match:\n",
    "        if nota != \"NA\":\n",
    "            nota = float(nota)\n",
    "            if 0 <= nota <= 10:\n",
    "                return nota\n",
    "            else:\n",
    "                print(\"La nota debe estar entre 0 y 10\")\n",
    "        else:\n",
    "            return 0\n",
    "    else:\n",
    "        print(\"Valor inválido. Introduce un número entre 0 y 10 o NA.\")\n",
    "    return None\n",
    "\n",
    "while True:\n",
    "    sri = validar_nota(input(\"SRI: \"))\n",
    "    if sri != None:\n",
    "        break\n",
    "\n",
    "\n",
    "while True:\n",
    "    aso = validar_nota(input(\"ASO: \"))\n",
    "    if aso != None:\n",
    "        break\n",
    "\n",
    "while True:\n",
    "    iaw = validar_nota(input(\"IAW: \"))\n",
    "    if iaw != None:\n",
    "        break\n",
    "\n",
    "media = (sri + aso + iaw)/3\n",
    "\n",
    "if media < 5:\n",
    "    print(\"Estás rsuspenso.\")\n",
    "elif 5 <= media > 6:\n",
    "    print(\"Suficiente\")\n",
    "elif 6 <= media > 7:\n",
    "    print(\"Bien\")\n",
    "elif 7 <= media > 9:\n",
    "    print(\"Suficiente\")\n",
    "elif 9 <= media > 10:\n",
    "    print(\"Suficiente\")\n",
    "else:\n",
    "    print(\"Bien hecho. Tienes  matrícula.\")"
   ]
  },
  {
   "cell_type": "markdown",
   "metadata": {},
   "source": [
    "### Ejemplo ``while``"
   ]
  },
  {
   "cell_type": "code",
   "execution_count": 4,
   "metadata": {},
   "outputs": [
    {
     "name": "stdout",
     "output_type": "stream",
     "text": [
      "1\n",
      "2\n",
      "3\n",
      "4\n",
      "5\n",
      "6\n",
      "7\n",
      "8\n",
      "9\n",
      "10\n"
     ]
    }
   ],
   "source": [
    "numero = 0\n",
    "\n",
    "while numero < 10:\n",
    "    numero=numero+1\n",
    "    print(numero)"
   ]
  },
  {
   "cell_type": "markdown",
   "metadata": {},
   "source": [
    "### Ejemplo de ``for``"
   ]
  },
  {
   "cell_type": "code",
   "execution_count": 8,
   "metadata": {},
   "outputs": [
    {
     "name": "stdout",
     "output_type": "stream",
     "text": [
      "192.168.1.1\n",
      "192.168.1.2\n",
      "192.168.1.100\n",
      "192.168.1.200\n"
     ]
    }
   ],
   "source": [
    "ips=[\"192.168.1.1\", \"192.168.1.2\", \"192.168.1.100\", \"192.168.1.200\"]\n",
    "\n",
    "for ip in ips:\n",
    "    print(ip)"
   ]
  },
  {
   "cell_type": "markdown",
   "metadata": {},
   "source": [
    "Keep in 👀"
   ]
  },
  {
   "cell_type": "code",
   "execution_count": 9,
   "metadata": {},
   "outputs": [
    {
     "name": "stdout",
     "output_type": "stream",
     "text": [
      "192.168.206.0\n",
      "192.168.206.1\n",
      "192.168.206.2\n",
      "192.168.206.3\n",
      "192.168.206.4\n",
      "192.168.206.5\n",
      "192.168.206.6\n",
      "192.168.206.7\n",
      "192.168.206.8\n",
      "192.168.206.9\n"
     ]
    }
   ],
   "source": [
    "for i in range(10):\n",
    "    print(\"192.168.206.\"+str(i))"
   ]
  },
  {
   "cell_type": "code",
   "execution_count": 10,
   "metadata": {},
   "outputs": [
    {
     "name": "stdout",
     "output_type": "stream",
     "text": [
      "192.168.206.80\n",
      "192.168.206.81\n",
      "192.168.206.82\n",
      "192.168.206.83\n",
      "192.168.206.84\n",
      "192.168.206.85\n",
      "192.168.206.86\n",
      "192.168.206.87\n",
      "192.168.206.88\n",
      "192.168.206.89\n"
     ]
    }
   ],
   "source": [
    "for i in range(80,90):\n",
    "    print(\"192.168.206.\"+str(i))"
   ]
  },
  {
   "cell_type": "code",
   "execution_count": 15,
   "metadata": {},
   "outputs": [
    {
     "name": "stdout",
     "output_type": "stream",
     "text": [
      "H\n",
      "Hola\n"
     ]
    }
   ],
   "source": [
    "variable1 = 'Hola'\n",
    "variable2 = 'mundo'\n",
    "#print(variable1,variable2)\n",
    "caracter = variable1[0]\n",
    "print(caracter)\n",
    "variable1.capitalize\n",
    "print(variable1)"
   ]
  },
  {
   "cell_type": "markdown",
   "metadata": {},
   "source": [
    "### ***Slicing*** 🍕"
   ]
  },
  {
   "cell_type": "code",
   "execution_count": 21,
   "metadata": {},
   "outputs": [
    {
     "name": "stdout",
     "output_type": "stream",
     "text": [
      "192.168.208.20\n"
     ]
    }
   ],
   "source": [
    "ip_servidor=\"192.168.206.20\"\n",
    "\n",
    "subcadena_ini = ip_servidor[0:8]\n",
    "subcadena_fin = ip_servidor[-3:]\n",
    "print(subcadena_ini + \"208\" +subcadena_fin)\n"
   ]
  },
  {
   "cell_type": "markdown",
   "metadata": {},
   "source": [
    "### ***Longitud*** 📏"
   ]
  },
  {
   "cell_type": "code",
   "execution_count": 24,
   "metadata": {},
   "outputs": [
    {
     "name": "stdout",
     "output_type": "stream",
     "text": [
      "La longitud de la cadena ip_servidor es: 14 caracteres\n"
     ]
    }
   ],
   "source": [
    "longitud = len(ip_servidor)\n",
    "print(\"La longitud de la cadena ip_servidor es:\",str(longitud),\"caracteres\")"
   ]
  },
  {
   "cell_type": "markdown",
   "metadata": {},
   "source": [
    "### ***Caracter de escape*** 🏃"
   ]
  },
  {
   "cell_type": "code",
   "execution_count": 26,
   "metadata": {},
   "outputs": [
    {
     "name": "stdout",
     "output_type": "stream",
     "text": [
      "La ruta de Xampp es. C:\\xampphlc\\htdocs\n"
     ]
    }
   ],
   "source": [
    "print(\"La ruta de Xampp es: C:\\\\xampphlc\\\\htdocs\")"
   ]
  },
  {
   "cell_type": "markdown",
   "metadata": {},
   "source": [
    "## Funciones"
   ]
  },
  {
   "cell_type": "code",
   "execution_count": 27,
   "metadata": {},
   "outputs": [
    {
     "name": "stdout",
     "output_type": "stream",
     "text": [
      "40\n"
     ]
    }
   ],
   "source": [
    "def calcula_area_retangulo(b,a):\n",
    "    return a * b\n",
    "\n",
    "resultado = calcula_area_retangulo(5,8)\n",
    "print(resultado)"
   ]
  },
  {
   "cell_type": "markdown",
   "metadata": {},
   "source": [
    "### ***Ejemplo función find*** \n",
    "Si se encuentra en la cadena arroja la posición en la cual inicia la coincidencia, si no está arroja -1.\n"
   ]
  },
  {
   "cell_type": "code",
   "execution_count": 32,
   "metadata": {},
   "outputs": [
    {
     "name": "stdout",
     "output_type": "stream",
     "text": [
      "0\n"
     ]
    }
   ],
   "source": [
    "txt = \"Hello, welcome to my world.\"\n",
    "\n",
    "x = txt.find(\"Hello\")\n",
    "\n",
    "print(x)"
   ]
  },
  {
   "cell_type": "markdown",
   "metadata": {},
   "source": [
    "# ``sys`` y ``os`` \n",
    "\n",
    "``sys.argv`` es una lista que contiene los argumentos pasados al script. El primer elemento (``sys.argv[0]``) es el nombre del script en sí, y los siguientes elementos son los argumentos proporcionados.\n",
    "Aquí se utiliza ``os.system()`` para ejecutar el comando ping en el sistema operativo, utilizando el primer argumento proporcionado como la dirección IP o nombre del host.\n",
    "``os.system()`` ejecuta el comando en una sub-shell y devuelve el código de salida del comando. Un código de salida 0 generalmente indica que el comando se ejecutó con éxito, mientras que cualquier otro valor indica un error.\n",
    "\n",
    "https://www.w3schools.com/python/module_os.asp"
   ]
  },
  {
   "cell_type": "code",
   "execution_count": null,
   "metadata": {},
   "outputs": [],
   "source": [
    "import sys\n",
    "import os \n",
    "\n",
    "if len(sys.argv) != 3:\n",
    "    print(\"ERROR. Tienes que introducir 2 argumentos\")\n",
    "    sys.exit(1) #Salida con errores\n",
    "\n",
    "# Aquí se imprime cuántos argumentos se han proporcionado, excluyendo el nombre del script.\n",
    "print(\"Numero de argumentos:\", len(sys.argv)-1)\n",
    "\n",
    "sys.argv[0] #se optienen el 1º argumento\n",
    "#print(sys.argv[0])\n",
    "#print(sys.argv[1])\n",
    "#print(sys.argv[2])\n",
    "\n",
    "resultado = os.system(f\"ping {sys.argv[1]}\")\n",
    "\n",
    "if resultado == 0:\n",
    "    #ok\n",
    "    print(\"La ip responde correctamente\")\n",
    "else:\n",
    "    #error\n",
    "    print(\"La ip NO responde\")"
   ]
  },
  {
   "cell_type": "markdown",
   "metadata": {},
   "source": [
    "### ***Ejemplo para escribir y leer en un fichero*** ✏️\n",
    "Los parámetros de `` open('nombre_de_fichero.txt', ' r  | w  | a') `` \n",
    "\n",
    "***r*** = leer, ***w*** = escribir y ***a*** = adicionar"
   ]
  },
  {
   "cell_type": "code",
   "execution_count": 29,
   "metadata": {},
   "outputs": [],
   "source": [
    "with open('mi_fichero.txt', 'a') as f:\n",
    "    f.write('Macarrones en el menu del dia \\n')\n",
    "\n",
    "f.close()"
   ]
  },
  {
   "cell_type": "code",
   "execution_count": null,
   "metadata": {},
   "outputs": [],
   "source": [
    "with  open('direcciones_ip.txt', 'r') as f:\n",
    "    contenido = f.read()\n",
    "    print(contenido)"
   ]
  },
  {
   "cell_type": "markdown",
   "metadata": {},
   "source": [
    "# Datetime 🕥"
   ]
  },
  {
   "cell_type": "code",
   "execution_count": null,
   "metadata": {},
   "outputs": [],
   "source": [
    "#Es necesario importar las depencendias necesarias\n",
    "from datetime import date\n",
    "from datetime import datetime\n",
    "\n",
    "#Día actual\n",
    "today = date.today()\n",
    "\n",
    "#Fecha actual\n",
    "now = datetime.now()\n",
    "\n",
    "print(today)\n",
    "print(now)\n"
   ]
  },
  {
   "cell_type": "code",
   "execution_count": null,
   "metadata": {},
   "outputs": [],
   "source": []
  },
  {
   "cell_type": "markdown",
   "metadata": {},
   "source": []
  }
 ],
 "metadata": {
  "kernelspec": {
   "display_name": "Python 3",
   "language": "python",
   "name": "python3"
  },
  "language_info": {
   "codemirror_mode": {
    "name": "ipython",
    "version": 3
   },
   "file_extension": ".py",
   "mimetype": "text/x-python",
   "name": "python",
   "nbconvert_exporter": "python",
   "pygments_lexer": "ipython3",
   "version": "3.11.2"
  }
 },
 "nbformat": 4,
 "nbformat_minor": 2
}
